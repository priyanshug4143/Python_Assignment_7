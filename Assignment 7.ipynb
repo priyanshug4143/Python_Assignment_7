{
 "cells": [
  {
   "cell_type": "code",
   "execution_count": 1,
   "id": "8ff12739",
   "metadata": {},
   "outputs": [],
   "source": [
    "#Q.1. Create two int type variables, apply addition, subtraction, division and multiplications\n",
    "#and store the results in variables. Then print the data in the following format by calling the\n",
    "#variables:\n",
    "#First variable is __ & second variable is __.\n",
    "#Addition: __ + __ = __\n",
    "#Subtraction: __ - __ = __\n",
    "#Multiplication: __ * __ = __\n",
    "#Division: __ / __ = __"
   ]
  },
  {
   "cell_type": "code",
   "execution_count": 3,
   "id": "152c35c6",
   "metadata": {},
   "outputs": [
    {
     "name": "stdout",
     "output_type": "stream",
     "text": [
      "Answer\n"
     ]
    }
   ],
   "source": [
    "print(\"Answer\")\n",
    "first_var=10\n",
    "second_var=4\n",
    "subtract=first_var-second_var\n",
    "addition=first_var+second_var\n",
    "division=first_var/second_var\n",
    "multi=first_var*second_var"
   ]
  },
  {
   "cell_type": "code",
   "execution_count": 12,
   "id": "9e53e82d",
   "metadata": {},
   "outputs": [
    {
     "name": "stdout",
     "output_type": "stream",
     "text": [
      "First variable is 10 & second variable is 4\n"
     ]
    }
   ],
   "source": [
    "print(\"First variable is {first_var} & second variable is {second_var}\".format(first_var=first_var , second_var=second_var))"
   ]
  },
  {
   "cell_type": "code",
   "execution_count": 13,
   "id": "73211d3e",
   "metadata": {},
   "outputs": [
    {
     "name": "stdout",
     "output_type": "stream",
     "text": [
      "Addition:10+4=14\n"
     ]
    }
   ],
   "source": [
    "print(\"Addition:{f_value}+{second_value}={final}\".format(f_value=first_var , second_value=second_var , final=addition))"
   ]
  },
  {
   "cell_type": "code",
   "execution_count": 14,
   "id": "278a027c",
   "metadata": {},
   "outputs": [
    {
     "name": "stdout",
     "output_type": "stream",
     "text": [
      "Subtraction:10-4=6\n"
     ]
    }
   ],
   "source": [
    "print(\"Subtraction:{f_value}-{second_value}={final}\".format(f_value=first_var , second_value=second_var , final=subtract))"
   ]
  },
  {
   "cell_type": "code",
   "execution_count": 15,
   "id": "5a6e788e",
   "metadata": {},
   "outputs": [
    {
     "name": "stdout",
     "output_type": "stream",
     "text": [
      "Multiplication:10*4=40\n"
     ]
    }
   ],
   "source": [
    "print(\"Multiplication:{f_value}*{second_value}={final}\".format(f_value=first_var , second_value=second_var , final=multi))"
   ]
  },
  {
   "cell_type": "code",
   "execution_count": 17,
   "id": "28013159",
   "metadata": {},
   "outputs": [
    {
     "name": "stdout",
     "output_type": "stream",
     "text": [
      "Division:10/4=2.5\n"
     ]
    }
   ],
   "source": [
    "print(\"Division:{f_value}/{second_value}={final}\".format(f_value=first_var , second_value=second_var , final=division))"
   ]
  },
  {
   "cell_type": "code",
   "execution_count": null,
   "id": "25de87ad",
   "metadata": {},
   "outputs": [],
   "source": []
  },
  {
   "cell_type": "code",
   "execution_count": null,
   "id": "273202fd",
   "metadata": {},
   "outputs": [],
   "source": []
  },
  {
   "cell_type": "code",
   "execution_count": 18,
   "id": "3deb2e42",
   "metadata": {},
   "outputs": [
    {
     "name": "stdout",
     "output_type": "stream",
     "text": [
      "Q.2. What is the difference between the following operators:\n",
      "(i) ‘/’ & ‘//’\n",
      "(ii) ‘**’ & ‘^’\n"
     ]
    }
   ],
   "source": [
    "print(\"Q.2. What is the difference between the following operators:\")\n",
    "print(\"(i) ‘/’ & ‘//’\")\n",
    "print(\"(ii) ‘**’ & ‘^’\")"
   ]
  },
  {
   "cell_type": "code",
   "execution_count": 27,
   "id": "bf20ebf7",
   "metadata": {},
   "outputs": [
    {
     "name": "stdout",
     "output_type": "stream",
     "text": [
      "Answer\n",
      "for (i) / its used for division and  //  used for floor division opration\n",
      "5\n",
      "for ii its a exponential operation  It raises the number on the left side of the operator to the power of the number on the right side.\n"
     ]
    }
   ],
   "source": [
    "print(\"Answer\")\n",
    "print(\"for (i)\"  , \"/ its used for division and  //  used for floor division opration\")\n",
    "print(11//2)\n",
    "print(\"for ii\" , \"its a exponential operation \" , \"It raises the number on the left side of the operator to the power of the number on the right side.\")"
   ]
  },
  {
   "cell_type": "code",
   "execution_count": 28,
   "id": "d7dd1751",
   "metadata": {},
   "outputs": [
    {
     "data": {
      "text/plain": [
       "16384"
      ]
     },
     "execution_count": 28,
     "metadata": {},
     "output_type": "execute_result"
    }
   ],
   "source": [
    "4**7"
   ]
  },
  {
   "cell_type": "code",
   "execution_count": null,
   "id": "415cf769",
   "metadata": {},
   "outputs": [],
   "source": []
  },
  {
   "cell_type": "code",
   "execution_count": null,
   "id": "14c0eb2f",
   "metadata": {},
   "outputs": [],
   "source": []
  },
  {
   "cell_type": "code",
   "execution_count": 30,
   "id": "5c243cf0",
   "metadata": {},
   "outputs": [
    {
     "name": "stdout",
     "output_type": "stream",
     "text": [
      "Q.3. List the logical operators.\n",
      "AND OR THE these are a logical operator  in pyhton\n"
     ]
    }
   ],
   "source": [
    "print(\"Q.3. List the logical operators.\")\n",
    "print(\"AND\" ,\"OR\" , \"THE\" , \"these are a logical operator  in pyhton\")"
   ]
  },
  {
   "cell_type": "code",
   "execution_count": null,
   "id": "ec38e8a9",
   "metadata": {},
   "outputs": [],
   "source": []
  },
  {
   "cell_type": "code",
   "execution_count": 32,
   "id": "50a11f0e",
   "metadata": {},
   "outputs": [
    {
     "name": "stdout",
     "output_type": "stream",
     "text": [
      "Q.4. Explain right shift operator and left shift operator with examples.\n",
      "these are used in bitwise operator , they operate a int at a binary level \n",
      "the main role of this are shift a binary representation of int\n",
      "2\n"
     ]
    }
   ],
   "source": [
    "print(\"Q.4. Explain right shift operator and left shift operator with examples.\")\n",
    "print(\"these are used in bitwise operator , they operate a int at a binary level \")\n",
    "print(\"the main role of this are shift a binary representation of int\")\n",
    "num = 8  # Binary representation: 0b1000\n",
    "shift_count = 2\n",
    "result = num >> shift_count\n",
    "print(result)  # Output: 2 (Binary representation: 0b10)"
   ]
  },
  {
   "cell_type": "code",
   "execution_count": null,
   "id": "260e80fc",
   "metadata": {},
   "outputs": [],
   "source": []
  },
  {
   "cell_type": "code",
   "execution_count": null,
   "id": "214ff14c",
   "metadata": {},
   "outputs": [],
   "source": []
  },
  {
   "cell_type": "code",
   "execution_count": 34,
   "id": "c89a2b9a",
   "metadata": {},
   "outputs": [
    {
     "name": "stdout",
     "output_type": "stream",
     "text": [
      "Q.5. Create a list containing int type data of length 15. Then write a code to check if 10 is present in the list or not.\n"
     ]
    }
   ],
   "source": [
    "print(\"Q.5. Create a list containing int type data of length 15. Then write a code to check if 10 is present in the list or not.\")"
   ]
  },
  {
   "cell_type": "code",
   "execution_count": 40,
   "id": "c58c3c52",
   "metadata": {},
   "outputs": [],
   "source": [
    "a=[i for i in range(18)]"
   ]
  },
  {
   "cell_type": "code",
   "execution_count": 41,
   "id": "dcfe8902",
   "metadata": {},
   "outputs": [
    {
     "name": "stdout",
     "output_type": "stream",
     "text": [
      "yes\n"
     ]
    }
   ],
   "source": [
    "if 15 in a:\n",
    "    print(\"yes\")\n",
    "else:\n",
    "    print(\"no\")"
   ]
  },
  {
   "cell_type": "code",
   "execution_count": null,
   "id": "5c83a4b4",
   "metadata": {},
   "outputs": [],
   "source": []
  }
 ],
 "metadata": {
  "kernelspec": {
   "display_name": "Python 3 (ipykernel)",
   "language": "python",
   "name": "python3"
  },
  "language_info": {
   "codemirror_mode": {
    "name": "ipython",
    "version": 3
   },
   "file_extension": ".py",
   "mimetype": "text/x-python",
   "name": "python",
   "nbconvert_exporter": "python",
   "pygments_lexer": "ipython3",
   "version": "3.10.5"
  }
 },
 "nbformat": 4,
 "nbformat_minor": 5
}
